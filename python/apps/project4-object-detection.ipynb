{
 "cells": [
  {
   "cell_type": "markdown",
   "metadata": {
    "id": "_pZC8z4IvjyI"
   },
   "source": [
    "# Project 4: Object Detection Starter Notebook"
   ]
  },
  {
   "cell_type": "markdown",
   "metadata": {
    "id": "wACtG9iavjyK"
   },
   "source": [
    "\n",
    "#### Maximum Points: 100\n",
    "\n",
    "<div>\n",
    "    <table>\n",
    "        <tr><td><h3>Sr. no.</h3></td> <td><h3>Section</h3></td> <td><h3>Points</h3></td> </tr>\n",
    "        <tr><td><h3>1</h3></td> <td><h3>Plot Ground Truth Bounding Boxes</h3></td> <td><h3>20</h3></td> </tr>\n",
    "        <tr><td><h3>2</h3></td> <td><h3>Training</h3></td> <td><h3>25</h3></td> </tr>\n",
    "        <tr><td><h3>3</h3></td> <td><h3>Inference</h3></td> <td><h3>15</h3></td> </tr>\n",
    "        <tr><td><h3>4</h3></td> <td><h3>Evaluation Metric</h3></td> <td><h3>25</h3></td> </tr>\n",
    "        <tr><td><h3>5</h3></td> <td><h3>Run Inference on a Video</h3></td> <td><h3>15</h3></td> </tr>\n",
    "    </table>\n",
    "</div>\n"
   ]
  },
  {
   "cell_type": "markdown",
   "metadata": {
    "id": "Mxx48p9bvjyK"
   },
   "source": [
    "\n",
    "**<font style=\"color:red\">For this project, evaluate your detection model on the Pascal VOC evaluation metric.</font>**\n",
    "\n",
    "**Pascal VOC Metric Score Distribution**\n",
    "\n",
    "<div>\n",
    "    <table>\n",
    "        <tr><td><h3>Sr. no.</h3></td> <td><h3>Score</h3></td> <td><h3>Points</h3></td> </tr>\n",
    "        <tr><td><h3>1</h3></td> <td><h3>  77%</h3></td> <td><h3>5</h3></td> </tr>\n",
    "        <tr><td><h3>2</h3></td> <td><h3>  78%</h3></td> <td><h3>10</h3></td> </tr>\n",
    "        <tr><td><h3>3</h3></td> <td><h3>  79%</h3></td> <td><h3>15</h3></td> </tr>\n",
    "        <tr><td><h3>4</h3></td> <td><h3>  80%</h3></td> <td><h3>20</h3></td> </tr>\n",
    "        <tr><td><h3>5</h3></td> <td><h3>  >=81%</h3></td> <td><h3>25</h3></td> </tr>\n",
    "    </table>\n",
    "</div>\n",
    "\n",
    "\n",
    "**Points are calculated using the following formula:**\n",
    "\n",
    "```python\n",
    "score = lambda mAP: min(max(0, (mAP - 76) * 5), 25)\n",
    "```\n",
    "\n",
    "\n",
    "For eg.\n",
    "```python\n",
    ">>> score(77)\n",
    "5\n",
    ">>> score(81)\n",
    "25\n",
    ">>> score(76.4)\n",
    "2\n",
    "\n",
    "```"
   ]
  },
  {
   "cell_type": "markdown",
   "metadata": {
    "id": "Xtm3918YvjyL"
   },
   "source": [
    "# Download the Dataset\n",
    "\n",
    "\n",
    "**Download the CHV (Colored Helmet and Vest) PPE Kit Dataset from  [here](https://www.dropbox.com/s/87e87h3kpw41iwj/Project_4_CHV_Dataset.zip?dl=1). Unzip it to get the `Project_3_CHV_Dataset` directory.**\n",
    "\n",
    "\n",
    "Take a look at the directory structure:\n",
    "\n",
    "```html\n",
    "Project_3_CHV_Dataset\n",
    "|___data\n",
    "|   |___testing\n",
    "|   |___training\n",
    "|___README.txt  \n",
    "```\n",
    "\n",
    "* ***Directory Details:***\n",
    "    - **training**:Contains a total of `1080` JPEG images, along with corresponding XML annotations to be used for training.\n",
    "    - **testing**:  Contains a total of `250` JPEG images, along with corresponding XML annotations to be used for final evaluation.\n",
    "* ***Classes:*** \n",
    "    - The dataset contains `6` different classes.\n",
    "    - Class Names: `[person, vest, helmet_blue, helmet_red, helmet_white, helmet_yellow]`\n",
    "*. To evaluate the model in between experiments, split the training set into two: \n",
    "    - training\n",
    "    - validation\n",
    "\n",
    "\n",
    "**<font style=\"color:red\">Note:</font>** **Do not use the testing set until you complete all your experiments and are fully satisfied with your results on your validation set.**"
   ]
  },
  {
   "cell_type": "markdown",
   "metadata": {
    "id": "NLY8MXOhvjyL"
   },
   "source": [
    "# 1. Plot Ground Truth Bounding Boxes [20 Points]\n",
    "\n",
    "\n",
    "**<font style=\"color:red\">You have to show three random images from testing data and its bounding boxes.</font>** \n",
    "\n",
    "The plotted images should look like this:\n",
    "\n",
    "\n",
    "<img src='https://learnopencv.com/wp-content/uploads/2022/05/c4_p4_gt_2.jpg' width=\"80%\">\n",
    "<img src='https://learnopencv.com/wp-content/uploads/2022/05/c4_p4_gt_3.jpg' width=\"80%\">\n",
    "<img src='https://learnopencv.com/wp-content/uploads/2022/05/c4_p4_gt_4.jpg' width=\"80%\">\n",
    "\n",
    "<!-- \n",
    "<img src='https://learnopencv.com/wp-content/uploads/2022/05/c4_p4_gt_1.jpg' width=100% height=60%>\n",
    "<img src='https://learnopencv.com/wp-content/uploads/2022/04/C4-P4-Starter_notebook_image_3.jpg' width=80% height=60%>\n",
    "<img src='https://learnopencv.com/wp-content/uploads/2022/04/C4-P4-Starter_notebook_image_1.jpg' width=80% height=60%>\n",
    "<img src='https://learnopencv.com/wp-content/uploads/2022/04/C4-P4-Starter_notebook_image_2.jpg' width=80% height=60%>\n",
    " -->"
   ]
  },
  {
   "cell_type": "code",
   "execution_count": null,
   "metadata": {
    "id": "2gAFDfNRvjyM"
   },
   "outputs": [],
   "source": []
  },
  {
   "cell_type": "code",
   "execution_count": null,
   "metadata": {
    "id": "kafWPYNcvjyM"
   },
   "outputs": [],
   "source": []
  },
  {
   "cell_type": "code",
   "execution_count": null,
   "metadata": {
    "id": "5gIgLBmDvjyM"
   },
   "outputs": [],
   "source": []
  },
  {
   "cell_type": "markdown",
   "metadata": {
    "id": "uJmuKSV-vjyM"
   },
   "source": [
    "#  2. Training [25 Points] \n",
    "\n",
    "**<font style=\"color:red\">This section should contain your training pipeline code.</font>**<br>\n",
    "**<font style=\"color:red\">Upload your training logs to <a href=\"https://tensorboard.dev/\" target=\"_blank\">TensorBoard.dev</a> and share the link here to help us evaluate.** "
   ]
  },
  {
   "cell_type": "code",
   "execution_count": null,
   "metadata": {
    "id": "HRyimkucvjyN"
   },
   "outputs": [],
   "source": []
  },
  {
   "cell_type": "code",
   "execution_count": null,
   "metadata": {
    "id": "3Zay6ZOsvjyN"
   },
   "outputs": [],
   "source": []
  },
  {
   "cell_type": "code",
   "execution_count": null,
   "metadata": {
    "id": "mg6Ypo90vjyN"
   },
   "outputs": [],
   "source": []
  },
  {
   "cell_type": "markdown",
   "metadata": {
    "id": "CqtJapyWvjyN"
   },
   "source": [
    "#  3. Inference [15 Points]\n",
    "\n",
    "\n",
    "**<font style=\"color:red\">Use your trained model to predict on three random images from the testing dataset.</font>**\n",
    "\n",
    "\n",
    "The plotted images should look like these:\n",
    "\n",
    "<img src='https://learnopencv.com/wp-content/uploads/2022/05/c4_p4_demo_det_2.jpg' width=80% >\n",
    "<img src='https://learnopencv.com/wp-content/uploads/2022/05/c4_p4_demo_det_3.jpg' width=80%>\n",
    "<img src='https://learnopencv.com/wp-content/uploads/2022/05/c4_p4_demo_det_4.jpg' width=80%>\n",
    "\n",
    "<!--  \n",
    "<img src='ppe_0777.jpg'>\n",
    "\n",
    "\n",
    "<img src='ppe_0079.jpg'>\n",
    "\n",
    "\n",
    "\n",
    "<img src='ppe_0086.jpg'>\n",
    "\n",
    "-->"
   ]
  },
  {
   "cell_type": "code",
   "execution_count": null,
   "metadata": {
    "id": "fwbigEH_vjyN"
   },
   "outputs": [],
   "source": []
  },
  {
   "cell_type": "code",
   "execution_count": null,
   "metadata": {
    "id": "oDu7EknRvjyN"
   },
   "outputs": [],
   "source": []
  },
  {
   "cell_type": "code",
   "execution_count": null,
   "metadata": {
    "id": "0_064UbmvjyN"
   },
   "outputs": [],
   "source": []
  },
  {
   "cell_type": "markdown",
   "metadata": {
    "id": "yAFTkwRNvjyO"
   },
   "source": [
    "#  4. Evaluation Metric [25 Points]</font> \n",
    "\n",
    "**Evaluate your detection model on the Pascal VOC evaluation metric.**\n",
    "\n",
    "\n",
    "**<font style=\"color:red\">Note:</font>**\n",
    "\n",
    "* For minimum points, the Pascal VOC metric should be **at least `0.76`.** \n",
    "* For maximum points, the Pascal VOC metric should be **greater than or equal to `0.81`.**\n",
    "\n",
    "---- \n",
    "\n",
    "**Performing evaluation:**\n",
    "\n",
    "1. Evaluation is easy if you've trained your model using the TFOD API. This API  uses the COCO detection evaluation metric and also prints the required Pascal VOC metric.\n",
    "2. We have even provided the custom evaluation script to help you calculate the Pascal VOC metric.\n",
    "3. Download the custom Pascal VOC evaluation script here: [link](https://www.dropbox.com/s/sy8kb3eba1oce3w/calculate_voc_metric.py?dl=1). Find usage instructions in the documentation inside the script.\n",
    "\n",
    "---\n",
    "\n",
    "<img src=\"https://learnopencv.com/wp-content/uploads/2022/05/COCO_evaluation.png\" width=80%>\n",
    "\n",
    "---\n",
    "\n",
    "\n",
    "\n",
    "\n",
    "**1. This is what the expected output from the COCO detection metric looks like:**\n",
    "\n",
    "```\n",
    " Average Precision  (AP) @[ IoU=0.50:0.95 | area=   all | maxDets=100 ] = 0.413\n",
    " Average Precision  (AP) @[ IoU=0.50      | area=   all | maxDets=100 ] = 0.802\n",
    " Average Precision  (AP) @[ IoU=0.75      | area=   all | maxDets=100 ] = 0.362\n",
    " Average Precision  (AP) @[ IoU=0.50:0.95 | area= small | maxDets=100 ] = 0.187\n",
    " Average Precision  (AP) @[ IoU=0.50:0.95 | area=medium | maxDets=100 ] = 0.481\n",
    " Average Precision  (AP) @[ IoU=0.50:0.95 | area= large | maxDets=100 ] = 0.613\n",
    " Average Recall     (AR) @[ IoU=0.50:0.95 | area=   all | maxDets=  1 ] = 0.253\n",
    " Average Recall     (AR) @[ IoU=0.50:0.95 | area=   all | maxDets= 10 ] = 0.493\n",
    " Average Recall     (AR) @[ IoU=0.50:0.95 | area=   all | maxDets=100 ] = 0.506\n",
    " Average Recall     (AR) @[ IoU=0.50:0.95 | area= small | maxDets=100 ] = 0.291\n",
    " Average Recall     (AR) @[ IoU=0.50:0.95 | area=medium | maxDets=100 ] = 0.579\n",
    " Average Recall     (AR) @[ IoU=0.50:0.95 | area= large | maxDets=100 ] = 0.684\n",
    "```\n",
    "\n",
    "\n",
    "**2. The expected output from the Custom evaluation script metric shall look:**\n",
    "\n",
    "```HTML\n",
    "\n",
    "Class        person AP: 85.64031219482422\n",
    "Class          vest AP: 86.64813995361328\n",
    "Class   helmet_blue AP: 74.333251953125\n",
    "Class    helmet_red AP: 73.71284484863281\n",
    "Class  helmet_white AP: 83.8909683227539\n",
    "Class helmet_yellow AP: 80.11634826660156\n",
    "\n",
    "Mean Average Precision: 80.72364044189453 \n",
    "```"
   ]
  },
  {
   "cell_type": "code",
   "execution_count": null,
   "metadata": {
    "id": "7mvzJUqAvjyO"
   },
   "outputs": [],
   "source": []
  },
  {
   "cell_type": "code",
   "execution_count": null,
   "metadata": {
    "id": "KpE-9eBhvjyO"
   },
   "outputs": [],
   "source": []
  },
  {
   "cell_type": "code",
   "execution_count": null,
   "metadata": {
    "id": "ugxFegcVvjyO"
   },
   "outputs": [],
   "source": []
  },
  {
   "cell_type": "markdown",
   "metadata": {
    "id": "YyJ8u2-GvjyO"
   },
   "source": [
    "# 5. Run Inference on a Video [15 Points]\n",
    "\n",
    "\n",
    "#### [Download the input video](https://www.dropbox.com/s/pvnc0u0dk41ji4w/Project_4_evaluation_video.mp4?dl=1)\n",
    "\n",
    "**<font style=\"color:red\">In this section, you have to run inference on the provided test video. Besides plotting bounding boxes, also write down  the total count of each object present in that frame.**</font>\n",
    "\n",
    "\n",
    "**Upload the output video on YouTube or any other video-sharing platform and share the link. Please do not upload it to the lab.**"
   ]
  },
  {
   "cell_type": "code",
   "execution_count": 1,
   "metadata": {
    "ExecuteTime": {
     "end_time": "2022-05-31T07:16:46.846276Z",
     "start_time": "2022-05-31T07:16:46.829276Z"
    },
    "id": "OnRts9vnvjyO",
    "outputId": "a6611a54-ce48-4ed0-a745-a8ed2d43ef25"
   },
   "outputs": [],
   "source": [
    "from IPython.display import YouTubeVideo, display"
   ]
  },
  {
   "cell_type": "code",
   "execution_count": 2,
   "metadata": {
    "ExecuteTime": {
     "end_time": "2022-05-31T07:16:49.676946Z",
     "start_time": "2022-05-31T07:16:48.367389Z"
    },
    "id": "OnRts9vnvjyO",
    "outputId": "a6611a54-ce48-4ed0-a745-a8ed2d43ef25"
   },
   "outputs": [
    {
     "data": {
      "image/jpeg": "[encoded data removed]",
      "text/html": [
       "\n",
       "        <iframe\n",
       "            width=\"640\"\n",
       "            height=\"360\"\n",
       "            src=\"https://www.youtube.com/embed/mYc-jb-9N3Y\"\n",
       "            frameborder=\"0\"\n",
       "            allowfullscreen\n",
       "        ></iframe>\n",
       "        "
      ],
      "text/plain": [
       "<IPython.lib.display.YouTubeVideo at 0x140f6eb35b0>"
      ]
     },
     "metadata": {},
     "output_type": "display_data"
    }
   ],
   "source": [
    "# https://www.youtube.com/watch?v=mYc-jb-9N3Y\n",
    "\n",
    "video = YouTubeVideo(\"mYc-jb-9N3Y\", width=640, height=360)\n",
    "display(video)"
   ]
  },
  {
   "cell_type": "markdown",
   "metadata": {
    "id": "1erKKtMnvjyP"
   },
   "source": [
    "**Your output video should have a bounding box around the classes present in the frame and also a total count of objects present in it.**"
   ]
  },
  {
   "cell_type": "code",
   "execution_count": 3,
   "metadata": {
    "ExecuteTime": {
     "end_time": "2022-05-31T07:17:22.367606Z",
     "start_time": "2022-05-31T07:17:14.967644Z"
    },
    "id": "dyYnTJt5vjyP",
    "outputId": "b693fe8d-5139-431d-adf3-fe72cba126d5",
    "scrolled": false
   },
   "outputs": [
    {
     "data": {
      "image/jpeg": "[encoded data removed]",
      "text/html": [
       "\n",
       "        <iframe\n",
       "            width=\"640\"\n",
       "            height=\"360\"\n",
       "            src=\"https://www.youtube.com/embed/-Ph6JwnAmaM\"\n",
       "            frameborder=\"0\"\n",
       "            allowfullscreen\n",
       "        ></iframe>\n",
       "        "
      ],
      "text/plain": [
       "<IPython.lib.display.YouTubeVideo at 0x140f6eb3d30>"
      ]
     },
     "metadata": {},
     "output_type": "display_data"
    }
   ],
   "source": [
    "# https://www.youtube.com/watch?v=-Ph6JwnAmaM\n",
    "    \n",
    "video = YouTubeVideo(\"-Ph6JwnAmaM\", width=640, height=360)\n",
    "display(video)"
   ]
  },
  {
   "cell_type": "markdown",
   "metadata": {
    "id": "w_aUDvxxvjyP"
   },
   "source": [
    "**Use the following sample code to read and write a video.**"
   ]
  },
  {
   "cell_type": "code",
   "execution_count": null,
   "metadata": {
    "id": "rT8kRiOZvjyQ"
   },
   "outputs": [],
   "source": [
    "def video_read_write(video_path):\n",
    "    \"\"\"\n",
    "    Read video frames one-by-one, flip it, and write in the other video.\n",
    "    video_path (str): path/to/video\n",
    "    \"\"\"\n",
    "    video = cv2.VideoCapture(video_path)\n",
    "    \n",
    "    # Check if camera opened successfully\n",
    "    if not video.isOpened(): \n",
    "        print(\"Error opening video file\")\n",
    "        return\n",
    "    \n",
    "    # create video writer\n",
    "    width = int(video.get(cv2.CAP_PROP_FRAME_WIDTH))\n",
    "    height = int(video.get(cv2.CAP_PROP_FRAME_HEIGHT))\n",
    "    frames_per_second = video.get(cv2.CAP_PROP_FPS)\n",
    "    num_frames = int(video.get(cv2.CAP_PROP_FRAME_COUNT))\n",
    "    \n",
    "    output_fname = '{}_out.mp4'.format(os.path.splitext(video_path)[0])\n",
    "    \n",
    "    output_file = cv2.VideoWriter(\n",
    "        filename=output_fname,\n",
    "        # some installation of opencv may not support x264 (due to its license),\n",
    "        # you can try other format (e.g. MPEG)\n",
    "        fourcc=cv2.VideoWriter_fourcc(*\"x264\"),\n",
    "        fps=float(frames_per_second),\n",
    "        frameSize=(width, height),\n",
    "        isColor=True,\n",
    "    )\n",
    "    \n",
    "        \n",
    "    i = 0\n",
    "    while video.isOpened():\n",
    "        ret, frame = video.read()\n",
    "        if ret:\n",
    "            # ...Perform your processing\n",
    "            \n",
    "            # Then write the processed frame to the output file. \n",
    "            output_file.write(frame[:, ::-1, :])\n",
    "            \n",
    "            i += 1\n",
    "        else:\n",
    "            break\n",
    "        \n",
    "    video.release()\n",
    "    output_file.release()\n",
    "    \n",
    "    return"
   ]
  },
  {
   "cell_type": "code",
   "execution_count": null,
   "metadata": {
    "id": "hGe6HNXFvjyQ"
   },
   "outputs": [],
   "source": []
  },
  {
   "cell_type": "code",
   "execution_count": null,
   "metadata": {
    "id": "BuUQwUKUvjyQ"
   },
   "outputs": [],
   "source": []
  }
 ],
 "metadata": {
  "colab": {
   "collapsed_sections": [],
   "name": "Project4_Starter_notebook.ipynb",
   "provenance": []
  },
  "interpreter": {
   "hash": "75aa9c6daad11fbe7704e5dc5bd12ef893ea958e6c5f653ac1e3d84cdd3c4b71"
  },
  "kernelspec": {
   "display_name": "Python 3 (ipykernel)",
   "language": "python",
   "name": "python3"
  },
  "language_info": {
   "codemirror_mode": {
    "name": "ipython",
    "version": 3
   },
   "file_extension": ".py",
   "mimetype": "text/x-python",
   "name": "python",
   "nbconvert_exporter": "python",
   "pygments_lexer": "ipython3",
   "version": "3.8.13"
  },
  "latex_envs": {
   "LaTeX_envs_menu_present": true,
   "autoclose": false,
   "autocomplete": true,
   "bibliofile": "biblio.bib",
   "cite_by": "apalike",
   "current_citInitial": 1,
   "eqLabelWithNumbers": true,
   "eqNumInitial": 1,
   "hotkeys": {
    "equation": "Ctrl-E",
    "itemize": "Ctrl-I"
   },
   "labels_anchors": false,
   "latex_user_defs": false,
   "report_style_numbering": false,
   "user_envs_cfg": false
  },
  "toc": {
   "base_numbering": 1,
   "nav_menu": {},
   "number_sections": false,
   "sideBar": true,
   "skip_h1_title": false,
   "title_cell": "Table of Contents",
   "title_sidebar": "Contents",
   "toc_cell": false,
   "toc_position": {},
   "toc_section_display": true,
   "toc_window_display": false
  },
  "varInspector": {
   "cols": {
    "lenName": 16,
    "lenType": 16,
    "lenVar": 40
   },
   "kernels_config": {
    "python": {
     "delete_cmd_postfix": "",
     "delete_cmd_prefix": "del ",
     "library": "var_list.py",
     "varRefreshCmd": "print(var_dic_list())"
    },
    "r": {
     "delete_cmd_postfix": ") ",
     "delete_cmd_prefix": "rm(",
     "library": "var_list.r",
     "varRefreshCmd": "cat(var_dic_list()) "
    }
   },
   "types_to_exclude": [
    "module",
    "function",
    "builtin_function_or_method",
    "instance",
    "_Feature"
   ],
   "window_display": false
  }
 },
 "nbformat": 4,
 "nbformat_minor": 1
}
